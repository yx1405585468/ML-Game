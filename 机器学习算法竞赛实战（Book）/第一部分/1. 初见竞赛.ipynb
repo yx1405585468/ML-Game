{
 "cells": [
  {
   "cell_type": "markdown",
   "metadata": {},
   "source": [
    "### 1. 初见竞赛"
   ]
  },
  {
   "cell_type": "markdown",
   "metadata": {},
   "source": [
    "#### 1.4 思考练习\n",
    "1. 请在Kaggle、天池、DF、DC、Kesci以及JDATA等网站分别注册账号并浏览，体会本章介绍的内容。\n",
    "\n",
    "2. 完整的竞赛流程包括哪几个主要部分，每个部分在流程中的角色是怎么样的？\n",
    "\n",
    "3. 以日常生活接触到的场景为例，列举5项可能使用了机器学习算法的应用。"
   ]
  }
 ],
 "metadata": {
  "kernelspec": {
   "display_name": "Python 3",
   "language": "python",
   "name": "python3"
  },
  "language_info": {
   "codemirror_mode": {
    "name": "ipython",
    "version": 3
   },
   "file_extension": ".py",
   "mimetype": "text/x-python",
   "name": "python",
   "nbconvert_exporter": "python",
   "pygments_lexer": "ipython3",
   "version": "3.12.7"
  }
 },
 "nbformat": 4,
 "nbformat_minor": 2
}
