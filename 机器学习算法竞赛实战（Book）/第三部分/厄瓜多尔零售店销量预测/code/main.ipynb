{
 "cells": [
  {
   "cell_type": "markdown",
   "metadata": {},
   "source": [
    "## 实战案例：预测厄瓜多尔零售商的不同商店出售的数千种商品的单位销量"
   ]
  },
  {
   "cell_type": "code",
   "execution_count": null,
   "metadata": {},
   "outputs": [],
   "source": [
    "# 导入数据\n",
    "import pandas as pd \n",
    "import numpy as np \n",
    "from sklearn.metrics import mean_squared_error \n",
    "from sklearn.preprocessing import LabelEncoder \n",
    "import lightgbm as lgb \n",
    "from datetime import date, timedelta\n"
   ]
  },
  {
   "cell_type": "code",
   "execution_count": null,
   "metadata": {},
   "outputs": [],
   "source": [
    "# 根目录\n",
    "path = 'D:/Program Projects/Python Projects/temp/厄瓜多尔超市销量预测/input/'"
   ]
  },
  {
   "cell_type": "code",
   "execution_count": null,
   "metadata": {},
   "outputs": [],
   "source": [
    "\n",
    "\n",
    "# unit_sales 进行 log1p() 预处理，好处是可以 对偏度比较大的数据进行转化，将其压缩到一个较小的区间，\n",
    "# 最后 log1p() 预处理 能起到平滑数据的作用。另外在评价指标部分也是对 unit_sales 进行同样的处理，这部分操作也是预处理。\n",
    "\n",
    "# 另一个操作是对 date 进行处理，将表格文件中的时间字符串转换成日期格式。提 前处理不仅有便于后续操作，还能减少代码量。\n",
    "df_train = pd.read_csv(path+'train.csv', converters={'unit_sales':lambda u: np.log1p(float(u)) if float(u) > 0 else 0}, parse_dates=[\"date\"])\n",
    "\n",
    "df_test = pd.read_csv(path + \"test.csv\",parse_dates=[\"date\"]) \n",
    "items = pd.read_csv(path+'items.csv') \n",
    "stores = pd.read_csv(path+'stores.csv') \n",
    "\n",
    "# 类型转换 \n",
    "df_train['onpromotion'] = df_train['onpromotion'].astype(bool) \n",
    "df_test['onpromotion'] = df_test['onpromotion'].astype(bool)"
   ]
  },
  {
   "cell_type": "code",
   "execution_count": null,
   "metadata": {},
   "outputs": [],
   "source": [
    "df_train"
   ]
  },
  {
   "cell_type": "code",
   "execution_count": null,
   "metadata": {},
   "outputs": [],
   "source": [
    "df_test"
   ]
  },
  {
   "cell_type": "code",
   "execution_count": null,
   "metadata": {},
   "outputs": [],
   "source": [
    "items"
   ]
  },
  {
   "cell_type": "code",
   "execution_count": null,
   "metadata": {},
   "outputs": [],
   "source": [
    "stores"
   ]
  },
  {
   "cell_type": "code",
   "execution_count": null,
   "metadata": {},
   "outputs": [],
   "source": [
    "# 数据集包含从 2013 年到 2017 年的数据，\n",
    "# 时间跨度非常大，四年的发展过程中会产 生很多的不确定性。\n",
    "# 在利用太久远的数据对未来进行预测时会产生一定的噪声，并 且会存在分布上的差异，\n",
    "# 这一点在 11.2 节也可以发现。另外出于对性能的考虑，最 终仅使用 2017 年的数据作为训练集。执行下述代码过滤 2017 年之前的数据：\n",
    "df_2017 = df_train.loc[df_train.date>='2017-01-01']\n",
    "del df_train"
   ]
  },
  {
   "cell_type": "code",
   "execution_count": null,
   "metadata": {},
   "outputs": [],
   "source": [
    "df_2017"
   ]
  },
  {
   "cell_type": "code",
   "execution_count": null,
   "metadata": {},
   "outputs": [],
   "source": [
    "# 接下来进行基本的数据格式转换，并最终以店铺、商品和时间为索引，构造是否促 销的数据表，\n",
    "# 以便进行与促销或者未促销相关的统计，这样的构造方式有利于之后 的特征提取。\n",
    "promo_2017_train = df_2017.set_index([\"store_nbr\", \"item_nbr\", \"date\"])[[\"onpromotion\"]].unstack(level=-1).fillna(False)\n",
    "promo_2017_train.columns = promo_2017_train.columns.get_level_values(1)\n",
    "\n",
    "promo_2017_test = df_test.set_index([\"store_nbr\", \"item_nbr\", \"date\"])[[\"onpromotion\"]].unstack(level=-1).fillna(False)\n",
    "promo_2017_test.columns = promo_2017_test.columns.get_level_values(1)\n",
    "promo_2017_test = promo_2017_test.reindex(promo_2017_train.index).fillna(False)\n",
    "\n",
    "promo_2017 = pd.concat([promo_2017_train, promo_2017_test], axis=1)\n",
    "promo_2017 = promo_2017.astype('int')"
   ]
  },
  {
   "cell_type": "code",
   "execution_count": null,
   "metadata": {},
   "outputs": [],
   "source": [
    "# 是否促销表\n",
    "promo_2017"
   ]
  },
  {
   "cell_type": "code",
   "execution_count": null,
   "metadata": {},
   "outputs": [],
   "source": [
    "df_2017 = df_2017.set_index([\"store_nbr\", \"item_nbr\", \"date\"])[[\"unit_sales\"]].unstack(level=-1).fillna(0) \n",
    "df_2017.columns = df_2017.columns.get_level_values(1)"
   ]
  },
  {
   "cell_type": "code",
   "execution_count": null,
   "metadata": {},
   "outputs": [],
   "source": [
    "# 单元销量表\n",
    "df_2017"
   ]
  },
  {
   "cell_type": "code",
   "execution_count": null,
   "metadata": {},
   "outputs": [],
   "source": [
    "# 历史平移特征和窗口统计特征是时间序列预测问题的核心特征，\n",
    "# 这里仅简单地使用 历史平移特征（一个单位）和不同窗口大小的窗口统计特征作为基础特征。\n",
    "# 下面实 现的是提取特征的通用代码：\n",
    "\n",
    "def get_date_range(df, dt, forward_steps, periods, freq='D'): \n",
    "    return df[pd.date_range(start=dt-timedelta(days=forward_steps), periods=periods, freq=freq)]\n",
    "\n"
   ]
  },
  {
   "cell_type": "code",
   "execution_count": null,
   "metadata": {},
   "outputs": [],
   "source": [
    "def prepare_dataset(t2017, is_train=True): \n",
    "    X = pd.DataFrame({ # 历史平移特征，前1、2、3 天的销量 \n",
    "        \"day_1_hist\": get_date_range(df_2017, t2017, 1, 1).values.ravel(), \n",
    "        \"day_2_hist\": get_date_range(df_2017, t2017, 2, 1).values.ravel(), \n",
    "        \"day_3_hist\": get_date_range(df_2017, t2017, 3, 1).values.ravel(), })\n",
    "    for i in [7, 14, 21, 30]: \n",
    "        # 窗口统计特征，销量diff/mean/meidan/max/min/std \n",
    "        X['diff_{}_day_mean'.format(i)] = get_date_range(df_2017, t2017, i, i).diff(axis=1).mean(axis=1).values \n",
    "        X['mean_{}_day'.format(i)] = get_date_range(df_2017, t2017, i, i).mean(axis=1).values \n",
    "        X['median_{}_day'.format(i)] = get_date_range(df_2017, t2017, i, i).mean(axis=1).values \n",
    "        X['max_{}_day'.format(i)] = get_date_range(df_2017, t2017, i, i).max(axis=1).values\n",
    "        X['min_{}_day'.format(i)] = get_date_range(df_2017, t2017, i, i).min(axis=1).values \n",
    "        X['std_{}_day'.format(i)] = get_date_range(df_2017, t2017, i, i).min(axis=1).values\n",
    "    for i in range(7): \n",
    "        # 前4、10 周每周的平均销量 \n",
    "        X['mean_4_dow{}_2017'.format(i)] = get_date_range(df_2017, t2017, 28-i, 4, freq='7D').mean(axis=1).values \n",
    "        X['mean_10_dow{}_2017'.format(i)] = get_date_range(df_2017, t2017, 70-i, 10, freq='7D').mean(axis=1).values \n",
    "    for i in range(16): \n",
    "        # 未来16 天是否为促销日\n",
    "        X[\"promo_{}\".format(i)] = promo_2017[str(t2017 + timedelta(days=i))].values.astype(np.uint8) \n",
    "    if is_train: \n",
    "        y = df_2017[pd.date_range(t2017, periods=16)].values \n",
    "        return X, y \n",
    "    return X"
   ]
  },
  {
   "cell_type": "code",
   "execution_count": null,
   "metadata": {},
   "outputs": [],
   "source": [
    "# 以7 月5 日后的第16 天作为最后一个训练集窗口，向前依次递推14 周得到14 个训练窗口的训练数据 \n",
    "from tqdm import tqdm\n",
    "X_l, y_l = [], [] \n",
    "t2017 = date(2017, 7, 5) \n",
    "n_range = 14 \n",
    "for i in tqdm(range(n_range)): \n",
    "    delta = timedelta(days=7 * i) \n",
    "    X_tmp, y_tmp = prepare_dataset(t2017 - delta) \n",
    "    X_l.append(X_tmp) \n",
    "    y_l.append(y_tmp) \n",
    "X_train = pd.concat(X_l, axis=0) \n",
    "y_train = np.concatenate(y_l, axis=0) \n",
    "del X_l, y_l \n",
    "\n",
    "# 验证集取7 月26 日到8 月10 日的数据 \n",
    "X_val, y_val = prepare_dataset(date(2017, 7, 26)) \n",
    "\n",
    "# 测试集取8 月16 日到8 月31 日的数据\n",
    "X_test = prepare_dataset(date(2017, 8, 16), is_train=False)"
   ]
  },
  {
   "cell_type": "code",
   "execution_count": 26,
   "metadata": {},
   "outputs": [],
   "source": [
    "X_train[\"label\"] = y_train[:, i]\n",
    "X_train.to_csv(path+'X_train.csv',index=False)"
   ]
  },
  {
   "cell_type": "code",
   "execution_count": null,
   "metadata": {},
   "outputs": [],
   "source": [
    "from lightgbm import log_evaluation\n",
    "params = {'num_leaves': 2 ** 5 - 1, 'objective': 'regression_l2', 'max_depth': 8, 'min_data_in_leaf': 50,\n",
    "          'learning_rate': 0.05, 'feature_fraction': 0.75, 'bagging_fraction': 0.75, 'bagging_freq': 1, 'metric': 'l2',\n",
    "          'num_threads': 4}\n",
    "MAX_ROUNDS = 500\n",
    "val_pred = []\n",
    "test_pred = []\n",
    "callbacks = [log_evaluation(period=100)]\n",
    "for i in range(16): \n",
    "    print(\"====== Step %d ======\" % (i + 1))\n",
    "    dtrain = lgb.Dataset(X_train, label=y_train[:, i])\n",
    "    dval = lgb.Dataset(X_val, label=y_val[:, i], reference=dtrain)\n",
    "    bst = lgb.train(params, dtrain, num_boost_round=MAX_ROUNDS, valid_sets=[dtrain, dval], callbacks=callbacks)\n",
    "    val_pred.append(bst.predict(X_val, num_iteration=bst.best_iteration or MAX_ROUNDS))\n",
    "    test_pred.append(bst.predict(X_test, num_iteration=bst.best_iteration or MAX_ROUNDS))"
   ]
  },
  {
   "cell_type": "code",
   "execution_count": null,
   "metadata": {},
   "outputs": [],
   "source": []
  }
 ],
 "metadata": {
  "kernelspec": {
   "display_name": "Python 3",
   "language": "python",
   "name": "python3"
  },
  "language_info": {
   "codemirror_mode": {
    "name": "ipython",
    "version": 3
   },
   "file_extension": ".py",
   "mimetype": "text/x-python",
   "name": "python",
   "nbconvert_exporter": "python",
   "pygments_lexer": "ipython3",
   "version": "3.12.7"
  }
 },
 "nbformat": 4,
 "nbformat_minor": 2
}
